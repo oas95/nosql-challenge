{
 "cells": [
  {
   "cell_type": "markdown",
   "id": "9a57c4c6",
   "metadata": {},
   "source": [
    "# Eat Safe, Love"
   ]
  },
  {
   "cell_type": "markdown",
   "id": "064ef857",
   "metadata": {},
   "source": [
    "## Notebook Set Up"
   ]
  },
  {
   "cell_type": "code",
   "execution_count": 71,
   "id": "3ecdd008",
   "metadata": {},
   "outputs": [],
   "source": [
    "# Import dependencies\n",
    "from pymongo import MongoClient\n",
    "import pandas as pd\n",
    "from pprint import pprint\n",
    "import json \n",
    "import requests"
   ]
  },
  {
   "cell_type": "code",
   "execution_count": null,
   "id": "59390c4a",
   "metadata": {},
   "outputs": [],
   "source": [
    "# Create an instance of MongoClient\n",
    "mongo = MongoClient(port=27017)"
   ]
  },
  {
   "cell_type": "code",
   "execution_count": null,
   "id": "71e373c1",
   "metadata": {},
   "outputs": [],
   "source": [
    "# assign the uk_food database to a variable name\n",
    "db = mongo['uk_foods']"
   ]
  },
  {
   "cell_type": "code",
   "execution_count": null,
   "id": "18ab463c",
   "metadata": {},
   "outputs": [
    {
     "name": "stdout",
     "output_type": "stream",
     "text": [
      "['establishments']\n"
     ]
    }
   ],
   "source": [
    "# review the collections in our database\n",
    "print(db.list_collection_names())"
   ]
  },
  {
   "cell_type": "code",
   "execution_count": null,
   "id": "11c9f11b",
   "metadata": {},
   "outputs": [],
   "source": [
    "# assign the collection to a variable\n",
    "establishments = db['establishments']"
   ]
  },
  {
   "cell_type": "markdown",
   "id": "d5671434",
   "metadata": {},
   "source": [
    "## Part 3: Exploratory Analysis\n",
    "Unless otherwise stated, for each question: \n",
    "* Use `count_documents` to display the number of documents contained in the result.\n",
    "* Display the first document in the results using `pprint`.\n",
    "* Convert the result to a Pandas DataFrame, print the number of rows in the DataFrame, and display the first 10 rows."
   ]
  },
  {
   "cell_type": "markdown",
   "id": "314bd884",
   "metadata": {},
   "source": [
    "### 1. Which establishments have a hygiene score equal to 20?"
   ]
  },
  {
   "cell_type": "code",
   "execution_count": null,
   "id": "c2da7648",
   "metadata": {},
   "outputs": [
    {
     "name": "stdout",
     "output_type": "stream",
     "text": [
      "Number of establishments with a hygiene score of 20 are: 41\n",
      "{'BusinessName': 'The Chase Rest Home',\n",
      " '_id': ObjectId('63d1ef270eddd0949a7badff'),\n",
      " 'scores': {'Hygiene': 20}}\n"
     ]
    }
   ],
   "source": [
    "# Find the establishments with a hygiene score of 20\n",
    "query = {'scores.Hygiene': 20}\n",
    "fields = {'BusinessName': 1, 'scores.Hygiene': 1}\n",
    "hygiene_scores = list(establishments.find(query,fields))\n",
    "\n",
    "# Use count_documents to display the number of documents in the result\n",
    "print(\"Number of establishments with a hygiene score of 20 are:\", establishments.count_documents(query))\n",
    "\n",
    "# Display the first document in the results using pprint\n",
    "for hscores in range(1):\n",
    "    pprint(hygiene_scores[hscores])"
   ]
  },
  {
   "cell_type": "code",
   "execution_count": 87,
   "id": "a6e5cece",
   "metadata": {},
   "outputs": [
    {
     "name": "stdout",
     "output_type": "stream",
     "text": [
      "_id             41\n",
      "BusinessName    41\n",
      "scores          41\n",
      "dtype: int64\n"
     ]
    },
    {
     "data": {
      "text/html": [
       "<div>\n",
       "<style scoped>\n",
       "    .dataframe tbody tr th:only-of-type {\n",
       "        vertical-align: middle;\n",
       "    }\n",
       "\n",
       "    .dataframe tbody tr th {\n",
       "        vertical-align: top;\n",
       "    }\n",
       "\n",
       "    .dataframe thead th {\n",
       "        text-align: right;\n",
       "    }\n",
       "</style>\n",
       "<table border=\"1\" class=\"dataframe\">\n",
       "  <thead>\n",
       "    <tr style=\"text-align: right;\">\n",
       "      <th></th>\n",
       "      <th>_id</th>\n",
       "      <th>BusinessName</th>\n",
       "      <th>scores</th>\n",
       "    </tr>\n",
       "  </thead>\n",
       "  <tbody>\n",
       "    <tr>\n",
       "      <th>0</th>\n",
       "      <td>63d1ef270eddd0949a7badff</td>\n",
       "      <td>The Chase Rest Home</td>\n",
       "      <td>{'Hygiene': 20}</td>\n",
       "    </tr>\n",
       "    <tr>\n",
       "      <th>1</th>\n",
       "      <td>63d1ef270eddd0949a7bb181</td>\n",
       "      <td>Brenalwood</td>\n",
       "      <td>{'Hygiene': 20}</td>\n",
       "    </tr>\n",
       "    <tr>\n",
       "      <th>2</th>\n",
       "      <td>63d1ef270eddd0949a7bb48a</td>\n",
       "      <td>Melrose Hotel</td>\n",
       "      <td>{'Hygiene': 20}</td>\n",
       "    </tr>\n",
       "    <tr>\n",
       "      <th>3</th>\n",
       "      <td>63d1ef270eddd0949a7bb673</td>\n",
       "      <td>Seaford Pizza</td>\n",
       "      <td>{'Hygiene': 20}</td>\n",
       "    </tr>\n",
       "    <tr>\n",
       "      <th>4</th>\n",
       "      <td>63d1ef270eddd0949a7bb684</td>\n",
       "      <td>Golden Palace</td>\n",
       "      <td>{'Hygiene': 20}</td>\n",
       "    </tr>\n",
       "    <tr>\n",
       "      <th>5</th>\n",
       "      <td>63d1ef270eddd0949a7bc031</td>\n",
       "      <td>Ashby's Butchers</td>\n",
       "      <td>{'Hygiene': 20}</td>\n",
       "    </tr>\n",
       "    <tr>\n",
       "      <th>6</th>\n",
       "      <td>63d1ef270eddd0949a7bc249</td>\n",
       "      <td>South Sea Express Cuisine</td>\n",
       "      <td>{'Hygiene': 20}</td>\n",
       "    </tr>\n",
       "    <tr>\n",
       "      <th>7</th>\n",
       "      <td>63d1ef280eddd0949a7bd775</td>\n",
       "      <td>Golden Palace</td>\n",
       "      <td>{'Hygiene': 20}</td>\n",
       "    </tr>\n",
       "    <tr>\n",
       "      <th>8</th>\n",
       "      <td>63d1ef280eddd0949a7bdbb1</td>\n",
       "      <td>The Tulip Tree</td>\n",
       "      <td>{'Hygiene': 20}</td>\n",
       "    </tr>\n",
       "    <tr>\n",
       "      <th>9</th>\n",
       "      <td>63d1ef280eddd0949a7be3c5</td>\n",
       "      <td>F &amp; S</td>\n",
       "      <td>{'Hygiene': 20}</td>\n",
       "    </tr>\n",
       "  </tbody>\n",
       "</table>\n",
       "</div>"
      ],
      "text/plain": [
       "                        _id               BusinessName           scores\n",
       "0  63d1ef270eddd0949a7badff        The Chase Rest Home  {'Hygiene': 20}\n",
       "1  63d1ef270eddd0949a7bb181                 Brenalwood  {'Hygiene': 20}\n",
       "2  63d1ef270eddd0949a7bb48a              Melrose Hotel  {'Hygiene': 20}\n",
       "3  63d1ef270eddd0949a7bb673              Seaford Pizza  {'Hygiene': 20}\n",
       "4  63d1ef270eddd0949a7bb684              Golden Palace  {'Hygiene': 20}\n",
       "5  63d1ef270eddd0949a7bc031           Ashby's Butchers  {'Hygiene': 20}\n",
       "6  63d1ef270eddd0949a7bc249  South Sea Express Cuisine  {'Hygiene': 20}\n",
       "7  63d1ef280eddd0949a7bd775              Golden Palace  {'Hygiene': 20}\n",
       "8  63d1ef280eddd0949a7bdbb1             The Tulip Tree  {'Hygiene': 20}\n",
       "9  63d1ef280eddd0949a7be3c5                      F & S  {'Hygiene': 20}"
      ]
     },
     "execution_count": 87,
     "metadata": {},
     "output_type": "execute_result"
    }
   ],
   "source": [
    "# Convert the result to a Pandas DataFrame\n",
    "cleanly = pd.DataFrame(hygiene_scores)\n",
    "# Display the number of rows in the DataFrame\n",
    "pprint(cleanly.count())\n",
    "# Display the first 10 rows of the DataFrame\n",
    "cleanly.head(10)"
   ]
  },
  {
   "cell_type": "markdown",
   "id": "0ef4395a",
   "metadata": {},
   "source": [
    "### 2. Which establishments in London have a `RatingValue` greater than or equal to 4?"
   ]
  },
  {
   "cell_type": "code",
   "execution_count": 273,
   "id": "93c63829",
   "metadata": {},
   "outputs": [
    {
     "name": "stdout",
     "output_type": "stream",
     "text": [
      "The number of documents with a Rating Value 4 and 5 in London are: 34\n",
      "{'BusinessName': \"Charlie's\",\n",
      " 'LocalAuthorityName': 'City of London Corporation',\n",
      " 'RatingValue': '4',\n",
      " '_id': ObjectId('63d1ef270eddd0949a7bc819')}\n"
     ]
    }
   ],
   "source": [
    "# Find the establishments with London as the Local Authority and has a RatingValue greater than or equal to 4.\n",
    "query = {'LocalAuthorityName': {'$regex': 'London'}, \n",
    "         'RatingValue':{'$gte': '4'}}\n",
    "fields = {'BusinessName': 1, 'LocalAuthorityName': 1, 'RatingValue': 1} \n",
    "est_found = list(establishments.find(query,fields))\n",
    "\n",
    "# Use count_documents to display the number of documents in the result\n",
    "print(\"The number of documents with a Rating Value 4 and 5 in London are:\", establishments.count_documents(query))\n",
    "# Display the first document in the results using pprint\n",
    "\n",
    "for estvalue in range(1):\n",
    "    pprint(est_found[estvalue])\n"
   ]
  },
  {
   "cell_type": "code",
   "execution_count": 274,
   "id": "07e24ccb",
   "metadata": {},
   "outputs": [
    {
     "name": "stdout",
     "output_type": "stream",
     "text": [
      "_id                   34\n",
      "BusinessName          34\n",
      "RatingValue           34\n",
      "LocalAuthorityName    34\n",
      "dtype: int64\n"
     ]
    },
    {
     "data": {
      "text/html": [
       "<div>\n",
       "<style scoped>\n",
       "    .dataframe tbody tr th:only-of-type {\n",
       "        vertical-align: middle;\n",
       "    }\n",
       "\n",
       "    .dataframe tbody tr th {\n",
       "        vertical-align: top;\n",
       "    }\n",
       "\n",
       "    .dataframe thead th {\n",
       "        text-align: right;\n",
       "    }\n",
       "</style>\n",
       "<table border=\"1\" class=\"dataframe\">\n",
       "  <thead>\n",
       "    <tr style=\"text-align: right;\">\n",
       "      <th></th>\n",
       "      <th>_id</th>\n",
       "      <th>BusinessName</th>\n",
       "      <th>RatingValue</th>\n",
       "      <th>LocalAuthorityName</th>\n",
       "    </tr>\n",
       "  </thead>\n",
       "  <tbody>\n",
       "    <tr>\n",
       "      <th>0</th>\n",
       "      <td>63d1ef270eddd0949a7bc819</td>\n",
       "      <td>Charlie's</td>\n",
       "      <td>4</td>\n",
       "      <td>City of London Corporation</td>\n",
       "    </tr>\n",
       "    <tr>\n",
       "      <th>1</th>\n",
       "      <td>63d1ef270eddd0949a7bcb3f</td>\n",
       "      <td>Mv City Cruises Erasmus</td>\n",
       "      <td>5</td>\n",
       "      <td>City of London Corporation</td>\n",
       "    </tr>\n",
       "    <tr>\n",
       "      <th>2</th>\n",
       "      <td>63d1ef280eddd0949a7bd68b</td>\n",
       "      <td>Benfleet Motor Yacht Club</td>\n",
       "      <td>4</td>\n",
       "      <td>City of London Corporation</td>\n",
       "    </tr>\n",
       "    <tr>\n",
       "      <th>3</th>\n",
       "      <td>63d1ef280eddd0949a7be489</td>\n",
       "      <td>Tilbury Seafarers Centre</td>\n",
       "      <td>5</td>\n",
       "      <td>City of London Corporation</td>\n",
       "    </tr>\n",
       "    <tr>\n",
       "      <th>4</th>\n",
       "      <td>63d1ef280eddd0949a7be48e</td>\n",
       "      <td>Coombs Catering t/a The Lock and Key</td>\n",
       "      <td>5</td>\n",
       "      <td>City of London Corporation</td>\n",
       "    </tr>\n",
       "    <tr>\n",
       "      <th>5</th>\n",
       "      <td>63d1ef280eddd0949a7bebb7</td>\n",
       "      <td>Mv Valulla</td>\n",
       "      <td>5</td>\n",
       "      <td>City of London Corporation</td>\n",
       "    </tr>\n",
       "    <tr>\n",
       "      <th>6</th>\n",
       "      <td>63d1ef280eddd0949a7c0c9d</td>\n",
       "      <td>Froottree</td>\n",
       "      <td>AwaitingInspection</td>\n",
       "      <td>City of London Corporation</td>\n",
       "    </tr>\n",
       "    <tr>\n",
       "      <th>7</th>\n",
       "      <td>63d1ef280eddd0949a7c0ca4</td>\n",
       "      <td>Tereza Joanne</td>\n",
       "      <td>5</td>\n",
       "      <td>City of London Corporation</td>\n",
       "    </tr>\n",
       "    <tr>\n",
       "      <th>8</th>\n",
       "      <td>63d1ef280eddd0949a7c106b</td>\n",
       "      <td>Brick Lane Brews</td>\n",
       "      <td>4</td>\n",
       "      <td>City of London Corporation</td>\n",
       "    </tr>\n",
       "    <tr>\n",
       "      <th>9</th>\n",
       "      <td>63d1ef280eddd0949a7c1084</td>\n",
       "      <td>The Nuance Group (UK) Limited</td>\n",
       "      <td>5</td>\n",
       "      <td>City of London Corporation</td>\n",
       "    </tr>\n",
       "  </tbody>\n",
       "</table>\n",
       "</div>"
      ],
      "text/plain": [
       "                        _id                          BusinessName  \\\n",
       "0  63d1ef270eddd0949a7bc819                             Charlie's   \n",
       "1  63d1ef270eddd0949a7bcb3f               Mv City Cruises Erasmus   \n",
       "2  63d1ef280eddd0949a7bd68b             Benfleet Motor Yacht Club   \n",
       "3  63d1ef280eddd0949a7be489              Tilbury Seafarers Centre   \n",
       "4  63d1ef280eddd0949a7be48e  Coombs Catering t/a The Lock and Key   \n",
       "5  63d1ef280eddd0949a7bebb7                            Mv Valulla   \n",
       "6  63d1ef280eddd0949a7c0c9d                             Froottree   \n",
       "7  63d1ef280eddd0949a7c0ca4                         Tereza Joanne   \n",
       "8  63d1ef280eddd0949a7c106b                      Brick Lane Brews   \n",
       "9  63d1ef280eddd0949a7c1084         The Nuance Group (UK) Limited   \n",
       "\n",
       "          RatingValue          LocalAuthorityName  \n",
       "0                   4  City of London Corporation  \n",
       "1                   5  City of London Corporation  \n",
       "2                   4  City of London Corporation  \n",
       "3                   5  City of London Corporation  \n",
       "4                   5  City of London Corporation  \n",
       "5                   5  City of London Corporation  \n",
       "6  AwaitingInspection  City of London Corporation  \n",
       "7                   5  City of London Corporation  \n",
       "8                   4  City of London Corporation  \n",
       "9                   5  City of London Corporation  "
      ]
     },
     "execution_count": 274,
     "metadata": {},
     "output_type": "execute_result"
    }
   ],
   "source": [
    "# Convert the result to a Pandas DataFrame\n",
    "ratings_london_df = pd.DataFrame(est_found)\n",
    "# Display the number of rows in the DataFrame\n",
    "pprint(ratings_london_df.count())\n",
    "# Display the first 10 rows of the DataFrame\n",
    "ratings_london_df.head(10)"
   ]
  },
  {
   "cell_type": "markdown",
   "id": "4e570caf",
   "metadata": {},
   "source": [
    "### 3. What are the top 5 establishments with a `RatingValue` rating value of '5', sorted by lowest hygiene score, nearest to the new restaurant added, \"Penang Flavours\"?"
   ]
  },
  {
   "cell_type": "code",
   "execution_count": 275,
   "id": "7f599f3d",
   "metadata": {},
   "outputs": [],
   "source": [
    "# Search within 0.01 degree on either side of the latitude and longitude.\n",
    "# Rating value must equal 5\n",
    "# Sort by hygiene score\n",
    "\n",
    "degree_search = 0.01\n",
    "latitude = pd.DataFrame(db.establishments.find_one({'BusinessName': 'Penang Flavours'},{'geocode.latitude'}))\n",
    "longitude = pd.DataFrame(db.establishments.find_one({'BusinessName': 'Penang Flavours'},{'geocode.longitude'}))\n",
    "# Creating a float \n",
    "lat_geo = ((latitude['geocode']) + (degree_search))[0]\n",
    "lat_geo1 = ((latitude['geocode']) - (degree_search))[0]\n",
    "long_geo = ((longitude['geocode']) + (degree_search))[0]\n",
    "long_geo1 = ((longitude['geocode']) - (degree_search))[0]\n"
   ]
  },
  {
   "cell_type": "code",
   "execution_count": 276,
   "id": "79120efe",
   "metadata": {},
   "outputs": [
    {
     "name": "stdout",
     "output_type": "stream",
     "text": [
      "51.500142\n",
      "51.480142\n",
      "0.09383999999999999\n",
      "0.07384\n"
     ]
    }
   ],
   "source": [
    "#Checking if calculations from variables \n",
    "print(lat_geo)\n",
    "print(lat_geo1)\n",
    "print(long_geo)\n",
    "print(long_geo1)"
   ]
  },
  {
   "cell_type": "code",
   "execution_count": 291,
   "id": "71857c77",
   "metadata": {},
   "outputs": [
    {
     "name": "stdout",
     "output_type": "stream",
     "text": [
      "{'BusinessName': 'Iceland',\n",
      " 'RatingValue': '5',\n",
      " '_id': ObjectId('63d1ef280eddd0949a7c0630'),\n",
      " 'geocode': {'latitude': 51.4871482849121, 'longitude': 0.0924199968576431},\n",
      " 'scores': {'Hygiene': 0}}\n",
      "{'BusinessName': 'Howe and Co Fish and Chips - Van 17',\n",
      " 'RatingValue': '5',\n",
      " '_id': ObjectId('63d1ef280eddd0949a7c063e'),\n",
      " 'geocode': {'latitude': 51.4875335693359, 'longitude': 0.0925370007753372},\n",
      " 'scores': {'Hygiene': 0}}\n",
      "{'BusinessName': 'Volunteer',\n",
      " 'RatingValue': '5',\n",
      " '_id': ObjectId('63d1ef280eddd0949a7c065c'),\n",
      " 'geocode': {'latitude': 51.4873437, 'longitude': 0.09208},\n",
      " 'scores': {'Hygiene': 0}}\n",
      "{'BusinessName': 'Plumstead Manor Nursery',\n",
      " 'RatingValue': '5',\n",
      " '_id': ObjectId('63d1ef280eddd0949a7c0676'),\n",
      " 'geocode': {'latitude': 51.481517791748, 'longitude': 0.0859939977526665},\n",
      " 'scores': {'Hygiene': 0}}\n",
      "{'BusinessName': 'Lumbini Grocery Ltd T/A Al-Iman',\n",
      " 'RatingValue': '5',\n",
      " '_id': ObjectId('63d1ef280eddd0949a7c0678'),\n",
      " 'geocode': {'latitude': 51.4871632, 'longitude': 0.0916256},\n",
      " 'scores': {'Hygiene': 0}}\n"
     ]
    }
   ],
   "source": [
    "# The query \n",
    "query1 = {'geocode.latitude': {'$gt' : lat_geo1, '$lt': lat_geo}, 'geocode.longitude' : {'$gt' : long_geo1, '$lt': long_geo}, 'RatingValue': {'$regex': '5'}}\n",
    "fields = {'BusinessName': 1, 'RatingValue': 1, 'scores.Hygiene': 1, 'geocode': 1}\n",
    "sort = [(\"scores.Hygiene\", 1)]\n",
    "\n",
    "# Print the results\n",
    "\n",
    "results = list(establishments.find(query1, fields).sort(sort))\n",
    "\n",
    "for result in range(5):\n",
    "    pprint(results[result])\n",
    "\n"
   ]
  },
  {
   "cell_type": "code",
   "execution_count": 289,
   "id": "a6ad16f7",
   "metadata": {},
   "outputs": [
    {
     "data": {
      "text/html": [
       "<div>\n",
       "<style scoped>\n",
       "    .dataframe tbody tr th:only-of-type {\n",
       "        vertical-align: middle;\n",
       "    }\n",
       "\n",
       "    .dataframe tbody tr th {\n",
       "        vertical-align: top;\n",
       "    }\n",
       "\n",
       "    .dataframe thead th {\n",
       "        text-align: right;\n",
       "    }\n",
       "</style>\n",
       "<table border=\"1\" class=\"dataframe\">\n",
       "  <thead>\n",
       "    <tr style=\"text-align: right;\">\n",
       "      <th></th>\n",
       "      <th>_id</th>\n",
       "      <th>BusinessName</th>\n",
       "      <th>RatingValue</th>\n",
       "      <th>scores</th>\n",
       "      <th>geocode</th>\n",
       "    </tr>\n",
       "  </thead>\n",
       "  <tbody>\n",
       "    <tr>\n",
       "      <th>0</th>\n",
       "      <td>63d1ef280eddd0949a7c0630</td>\n",
       "      <td>Iceland</td>\n",
       "      <td>5</td>\n",
       "      <td>{'Hygiene': 0}</td>\n",
       "      <td>{'latitude': 51.4871482849121}</td>\n",
       "    </tr>\n",
       "    <tr>\n",
       "      <th>1</th>\n",
       "      <td>63d1ef280eddd0949a7c063e</td>\n",
       "      <td>Howe and Co Fish and Chips - Van 17</td>\n",
       "      <td>5</td>\n",
       "      <td>{'Hygiene': 0}</td>\n",
       "      <td>{'latitude': 51.4875335693359}</td>\n",
       "    </tr>\n",
       "    <tr>\n",
       "      <th>2</th>\n",
       "      <td>63d1ef280eddd0949a7c065c</td>\n",
       "      <td>Volunteer</td>\n",
       "      <td>5</td>\n",
       "      <td>{'Hygiene': 0}</td>\n",
       "      <td>{'latitude': 51.4873437}</td>\n",
       "    </tr>\n",
       "    <tr>\n",
       "      <th>3</th>\n",
       "      <td>63d1ef280eddd0949a7c0676</td>\n",
       "      <td>Plumstead Manor Nursery</td>\n",
       "      <td>5</td>\n",
       "      <td>{'Hygiene': 0}</td>\n",
       "      <td>{'latitude': 51.481517791748}</td>\n",
       "    </tr>\n",
       "    <tr>\n",
       "      <th>4</th>\n",
       "      <td>63d1ef280eddd0949a7c0678</td>\n",
       "      <td>Lumbini Grocery Ltd T/A Al-Iman</td>\n",
       "      <td>5</td>\n",
       "      <td>{'Hygiene': 0}</td>\n",
       "      <td>{'latitude': 51.4871632}</td>\n",
       "    </tr>\n",
       "  </tbody>\n",
       "</table>\n",
       "</div>"
      ],
      "text/plain": [
       "                        _id                         BusinessName RatingValue  \\\n",
       "0  63d1ef280eddd0949a7c0630                              Iceland           5   \n",
       "1  63d1ef280eddd0949a7c063e  Howe and Co Fish and Chips - Van 17           5   \n",
       "2  63d1ef280eddd0949a7c065c                            Volunteer           5   \n",
       "3  63d1ef280eddd0949a7c0676              Plumstead Manor Nursery           5   \n",
       "4  63d1ef280eddd0949a7c0678      Lumbini Grocery Ltd T/A Al-Iman           5   \n",
       "\n",
       "           scores                         geocode  \n",
       "0  {'Hygiene': 0}  {'latitude': 51.4871482849121}  \n",
       "1  {'Hygiene': 0}  {'latitude': 51.4875335693359}  \n",
       "2  {'Hygiene': 0}        {'latitude': 51.4873437}  \n",
       "3  {'Hygiene': 0}   {'latitude': 51.481517791748}  \n",
       "4  {'Hygiene': 0}        {'latitude': 51.4871632}  "
      ]
     },
     "execution_count": 289,
     "metadata": {},
     "output_type": "execute_result"
    }
   ],
   "source": [
    "# Convert result to Pandas DataFrame\n",
    "top_5 = pd.DataFrame(results)\n",
    "\n",
    "top_5.head(5)"
   ]
  },
  {
   "cell_type": "markdown",
   "id": "67281254",
   "metadata": {},
   "source": [
    "### 4. How many establishments in each Local Authority area have a hygiene score of 0?"
   ]
  },
  {
   "cell_type": "code",
   "execution_count": 301,
   "id": "4eeb227e",
   "metadata": {},
   "outputs": [
    {
     "name": "stdout",
     "output_type": "stream",
     "text": [
      "[{'_id': {'LocalAuthorityName': 'Broxbourne'}, 'count': 1},\n",
      " {'_id': {'LocalAuthorityName': 'Kensington and Chelsea'}, 'count': 1},\n",
      " {'_id': {'LocalAuthorityName': 'Dorset'}, 'count': 1},\n",
      " {'_id': {'LocalAuthorityName': 'Sunderland'}, 'count': 1},\n",
      " {'_id': {'LocalAuthorityName': 'North Norfolk'}, 'count': 1},\n",
      " {'_id': {'LocalAuthorityName': 'Reading'}, 'count': 1},\n",
      " {'_id': {'LocalAuthorityName': 'Mid Sussex'}, 'count': 5},\n",
      " {'_id': {'LocalAuthorityName': 'North Hertfordshire'}, 'count': 6},\n",
      " {'_id': {'LocalAuthorityName': 'Tower Hamlets'}, 'count': 9},\n",
      " {'_id': {'LocalAuthorityName': 'Ipswich'}, 'count': 21},\n",
      " {'_id': {'LocalAuthorityName': 'City of London Corporation'}, 'count': 28},\n",
      " {'_id': {'LocalAuthorityName': 'Tandridge'}, 'count': 42},\n",
      " {'_id': {'LocalAuthorityName': 'Lewisham'}, 'count': 65},\n",
      " {'_id': {'LocalAuthorityName': 'Rother'}, 'count': 80},\n",
      " {'_id': {'LocalAuthorityName': 'Wealden'}, 'count': 93},\n",
      " {'_id': {'LocalAuthorityName': 'Babergh'}, 'count': 97},\n",
      " {'_id': {'LocalAuthorityName': 'Waltham Forest'}, 'count': 110},\n",
      " {'_id': {'LocalAuthorityName': 'East Suffolk'}, 'count': 159},\n",
      " {'_id': {'LocalAuthorityName': 'Epping Forest'}, 'count': 180},\n",
      " {'_id': {'LocalAuthorityName': 'Redbridge'}, 'count': 182},\n",
      " {'_id': {'LocalAuthorityName': 'Rochford'}, 'count': 187},\n",
      " {'_id': {'LocalAuthorityName': 'East Hertfordshire'}, 'count': 189},\n",
      " {'_id': {'LocalAuthorityName': 'Maldon'}, 'count': 197},\n",
      " {'_id': {'LocalAuthorityName': 'Sevenoaks'}, 'count': 223},\n",
      " {'_id': {'LocalAuthorityName': 'Lewes'}, 'count': 250},\n",
      " {'_id': {'LocalAuthorityName': 'Uttlesford'}, 'count': 251},\n",
      " {'_id': {'LocalAuthorityName': 'Harlow'}, 'count': 274},\n",
      " {'_id': {'LocalAuthorityName': 'Castle Point'}, 'count': 281},\n",
      " {'_id': {'LocalAuthorityName': 'Brentwood'}, 'count': 285},\n",
      " {'_id': {'LocalAuthorityName': 'Canterbury City'}, 'count': 298},\n",
      " {'_id': {'LocalAuthorityName': 'Barking and Dagenham'}, 'count': 301},\n",
      " {'_id': {'LocalAuthorityName': 'Thurrock'}, 'count': 313},\n",
      " {'_id': {'LocalAuthorityName': 'Tonbridge and Malling'}, 'count': 325},\n",
      " {'_id': {'LocalAuthorityName': 'Gravesham'}, 'count': 339},\n",
      " {'_id': {'LocalAuthorityName': 'Basildon'}, 'count': 362},\n",
      " {'_id': {'LocalAuthorityName': 'Braintree'}, 'count': 382},\n",
      " {'_id': {'LocalAuthorityName': 'Dartford'}, 'count': 383},\n",
      " {'_id': {'LocalAuthorityName': 'Havering'}, 'count': 397},\n",
      " {'_id': {'LocalAuthorityName': 'Ashford'}, 'count': 427},\n",
      " {'_id': {'LocalAuthorityName': 'Bromley'}, 'count': 460},\n",
      " {'_id': {'LocalAuthorityName': 'Hastings'}, 'count': 464},\n",
      " {'_id': {'LocalAuthorityName': 'Eastbourne'}, 'count': 478},\n",
      " {'_id': {'LocalAuthorityName': 'Folkestone and Hythe'}, 'count': 480},\n",
      " {'_id': {'LocalAuthorityName': 'Tunbridge Wells'}, 'count': 491},\n",
      " {'_id': {'LocalAuthorityName': 'Colchester'}, 'count': 498},\n",
      " {'_id': {'LocalAuthorityName': 'Tendring'}, 'count': 542},\n",
      " {'_id': {'LocalAuthorityName': 'Southend-On-Sea'}, 'count': 586},\n",
      " {'_id': {'LocalAuthorityName': 'Bexley'}, 'count': 607},\n",
      " {'_id': {'LocalAuthorityName': 'Medway'}, 'count': 672},\n",
      " {'_id': {'LocalAuthorityName': 'Chelmsford'}, 'count': 680},\n",
      " {'_id': {'LocalAuthorityName': 'Swale'}, 'count': 686},\n",
      " {'_id': {'LocalAuthorityName': 'Newham'}, 'count': 711},\n",
      " {'_id': {'LocalAuthorityName': 'Maidstone'}, 'count': 713},\n",
      " {'_id': {'LocalAuthorityName': 'Greenwich'}, 'count': 882},\n",
      " {'_id': {'LocalAuthorityName': 'Thanet'}, 'count': 1130}]\n"
     ]
    }
   ],
   "source": [
    "# Create a pipeline that: \n",
    "# 1. Matches establishments with a hygiene score of 0\n",
    "hygiene_query = {'$match': {'scores.Hygiene': 0}}\n",
    "# 2. Groups the matches by Local Authority\n",
    "group_query = {'$group': {'_id':{'LocalAuthorityName': '$LocalAuthorityName'},\n",
    "                          'count': {'$sum': 1}\n",
    "                          }\n",
    "               }\n",
    "# 3. Sorts the matches from highest to lowest\n",
    "sort_query = {'$sort': {'count': +1}}\n",
    "# Print the number of documents in the result\n",
    "pipeline = [hygiene_query, group_query, sort_query]\n",
    "# Print the first 10 results\n",
    "results = list(establishments.aggregate(pipeline))\n",
    "pprint(results)"
   ]
  },
  {
   "cell_type": "code",
   "execution_count": 307,
   "id": "d8aab364",
   "metadata": {},
   "outputs": [
    {
     "name": "stdout",
     "output_type": "stream",
     "text": [
      "The number of rows in DataFrame:  55\n"
     ]
    },
    {
     "data": {
      "text/html": [
       "<div>\n",
       "<style scoped>\n",
       "    .dataframe tbody tr th:only-of-type {\n",
       "        vertical-align: middle;\n",
       "    }\n",
       "\n",
       "    .dataframe tbody tr th {\n",
       "        vertical-align: top;\n",
       "    }\n",
       "\n",
       "    .dataframe thead th {\n",
       "        text-align: right;\n",
       "    }\n",
       "</style>\n",
       "<table border=\"1\" class=\"dataframe\">\n",
       "  <thead>\n",
       "    <tr style=\"text-align: right;\">\n",
       "      <th></th>\n",
       "      <th>count</th>\n",
       "      <th>_id.LocalAuthorityName</th>\n",
       "    </tr>\n",
       "  </thead>\n",
       "  <tbody>\n",
       "    <tr>\n",
       "      <th>0</th>\n",
       "      <td>1</td>\n",
       "      <td>Broxbourne</td>\n",
       "    </tr>\n",
       "    <tr>\n",
       "      <th>1</th>\n",
       "      <td>1</td>\n",
       "      <td>Kensington and Chelsea</td>\n",
       "    </tr>\n",
       "    <tr>\n",
       "      <th>2</th>\n",
       "      <td>1</td>\n",
       "      <td>Dorset</td>\n",
       "    </tr>\n",
       "    <tr>\n",
       "      <th>3</th>\n",
       "      <td>1</td>\n",
       "      <td>Sunderland</td>\n",
       "    </tr>\n",
       "    <tr>\n",
       "      <th>4</th>\n",
       "      <td>1</td>\n",
       "      <td>North Norfolk</td>\n",
       "    </tr>\n",
       "    <tr>\n",
       "      <th>5</th>\n",
       "      <td>1</td>\n",
       "      <td>Reading</td>\n",
       "    </tr>\n",
       "    <tr>\n",
       "      <th>6</th>\n",
       "      <td>5</td>\n",
       "      <td>Mid Sussex</td>\n",
       "    </tr>\n",
       "    <tr>\n",
       "      <th>7</th>\n",
       "      <td>6</td>\n",
       "      <td>North Hertfordshire</td>\n",
       "    </tr>\n",
       "    <tr>\n",
       "      <th>8</th>\n",
       "      <td>9</td>\n",
       "      <td>Tower Hamlets</td>\n",
       "    </tr>\n",
       "    <tr>\n",
       "      <th>9</th>\n",
       "      <td>21</td>\n",
       "      <td>Ipswich</td>\n",
       "    </tr>\n",
       "  </tbody>\n",
       "</table>\n",
       "</div>"
      ],
      "text/plain": [
       "   count  _id.LocalAuthorityName\n",
       "0      1              Broxbourne\n",
       "1      1  Kensington and Chelsea\n",
       "2      1                  Dorset\n",
       "3      1              Sunderland\n",
       "4      1           North Norfolk\n",
       "5      1                 Reading\n",
       "6      5              Mid Sussex\n",
       "7      6     North Hertfordshire\n",
       "8      9           Tower Hamlets\n",
       "9     21                 Ipswich"
      ]
     },
     "execution_count": 307,
     "metadata": {},
     "output_type": "execute_result"
    }
   ],
   "source": [
    "# Convert the result to a Pandas DataFrame\n",
    "localauthority_df = pd.DataFrame(results)\n",
    "normalized_df = pd.json_normalize(results)\n",
    "# Display the number of rows in the DataFrame\n",
    "print(\"The number of rows in DataFrame: \", len(normalized_df))\n",
    "# Display the first 10 rows of the DataFrame\n",
    "normalized_df.head(10)"
   ]
  }
 ],
 "metadata": {
  "kernelspec": {
   "display_name": "PythonData",
   "language": "python",
   "name": "python3"
  },
  "language_info": {
   "codemirror_mode": {
    "name": "ipython",
    "version": 3
   },
   "file_extension": ".py",
   "mimetype": "text/x-python",
   "name": "python",
   "nbconvert_exporter": "python",
   "pygments_lexer": "ipython3",
   "version": "3.7.7"
  },
  "vscode": {
   "interpreter": {
    "hash": "436c09b15ab7c6ffa12c686fc976421f99d8bcb7a57a8a23c3545f9fdc9b698e"
   }
  }
 },
 "nbformat": 4,
 "nbformat_minor": 5
}
